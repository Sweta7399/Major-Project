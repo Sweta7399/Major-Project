{
 "cells": [
  {
   "cell_type": "code",
   "execution_count": 4,
   "metadata": {},
   "outputs": [],
   "source": [
    "import numpy as np\n",
    "import matplotlib.pyplot as plt\n",
    "import pandas as pd\n",
    "from sklearn.preprocessing import MinMaxScaler"
   ]
  },
  {
   "cell_type": "code",
   "execution_count": 5,
   "metadata": {},
   "outputs": [
    {
     "data": {
      "text/html": [
       "<div>\n",
       "<style scoped>\n",
       "    .dataframe tbody tr th:only-of-type {\n",
       "        vertical-align: middle;\n",
       "    }\n",
       "\n",
       "    .dataframe tbody tr th {\n",
       "        vertical-align: top;\n",
       "    }\n",
       "\n",
       "    .dataframe thead th {\n",
       "        text-align: right;\n",
       "    }\n",
       "</style>\n",
       "<table border=\"1\" class=\"dataframe\">\n",
       "  <thead>\n",
       "    <tr style=\"text-align: right;\">\n",
       "      <th></th>\n",
       "      <th>Day</th>\n",
       "      <th>N(Kg/Acre)</th>\n",
       "      <th>P(Kg/Acre)</th>\n",
       "      <th>K(Kg/Acre)</th>\n",
       "      <th>Moisture(%)</th>\n",
       "      <th>Temperature(°C)</th>\n",
       "      <th>Humidity(K)</th>\n",
       "      <th>LightIntensity</th>\n",
       "    </tr>\n",
       "  </thead>\n",
       "  <tbody>\n",
       "    <tr>\n",
       "      <th>0</th>\n",
       "      <td>1</td>\n",
       "      <td>34</td>\n",
       "      <td>31</td>\n",
       "      <td>83</td>\n",
       "      <td>58</td>\n",
       "      <td>29</td>\n",
       "      <td>82</td>\n",
       "      <td>10</td>\n",
       "    </tr>\n",
       "    <tr>\n",
       "      <th>1</th>\n",
       "      <td>2</td>\n",
       "      <td>36</td>\n",
       "      <td>28</td>\n",
       "      <td>57</td>\n",
       "      <td>39</td>\n",
       "      <td>29</td>\n",
       "      <td>68</td>\n",
       "      <td>14</td>\n",
       "    </tr>\n",
       "    <tr>\n",
       "      <th>2</th>\n",
       "      <td>3</td>\n",
       "      <td>33</td>\n",
       "      <td>24</td>\n",
       "      <td>143</td>\n",
       "      <td>55</td>\n",
       "      <td>27</td>\n",
       "      <td>69</td>\n",
       "      <td>15</td>\n",
       "    </tr>\n",
       "    <tr>\n",
       "      <th>3</th>\n",
       "      <td>4</td>\n",
       "      <td>32</td>\n",
       "      <td>23</td>\n",
       "      <td>58</td>\n",
       "      <td>40</td>\n",
       "      <td>28</td>\n",
       "      <td>75</td>\n",
       "      <td>10</td>\n",
       "    </tr>\n",
       "    <tr>\n",
       "      <th>4</th>\n",
       "      <td>5</td>\n",
       "      <td>31</td>\n",
       "      <td>23</td>\n",
       "      <td>80</td>\n",
       "      <td>60</td>\n",
       "      <td>29</td>\n",
       "      <td>68</td>\n",
       "      <td>15</td>\n",
       "    </tr>\n",
       "  </tbody>\n",
       "</table>\n",
       "</div>"
      ],
      "text/plain": [
       "   Day  N(Kg/Acre)  P(Kg/Acre)  K(Kg/Acre)  Moisture(%)  Temperature(°C)  \\\n",
       "0    1          34          31          83           58               29   \n",
       "1    2          36          28          57           39               29   \n",
       "2    3          33          24         143           55               27   \n",
       "3    4          32          23          58           40               28   \n",
       "4    5          31          23          80           60               29   \n",
       "\n",
       "   Humidity(K)  LightIntensity  \n",
       "0           82              10  \n",
       "1           68              14  \n",
       "2           69              15  \n",
       "3           75              10  \n",
       "4           68              15  "
      ]
     },
     "execution_count": 5,
     "metadata": {},
     "output_type": "execute_result"
    }
   ],
   "source": [
    "\n",
    "df = {\n",
    "    'Day':range(1,50001),\n",
    "    'N(Kg/Acre)':np.random.randint(30,40,size=50000),\n",
    "    'P(Kg/Acre)':np.random.randint(20,35,size=50000),\n",
    "    'K(Kg/Acre)':np.random.randint(50,150,size=50000),\n",
    "    'Moisture(%)':np.random.randint(24,80,size=50000),\n",
    "    'Temperature(°C)':np.random.randint(27,30,size=50000),\n",
    "    'Humidity(K)':np.random.randint(65,85,size=50000),\n",
    "    'LightIntensity':np.random.randint(9,17,size=50000)\n",
    "}\n",
    "\n",
    "data = pd.DataFrame(df)\n",
    "data.head()"
   ]
  },
  {
   "cell_type": "code",
   "execution_count": 6,
   "metadata": {},
   "outputs": [
    {
     "name": "stdout",
     "output_type": "stream",
     "text": [
      "From Bottom\n",
      "\n"
     ]
    },
    {
     "data": {
      "text/html": [
       "<div>\n",
       "<style scoped>\n",
       "    .dataframe tbody tr th:only-of-type {\n",
       "        vertical-align: middle;\n",
       "    }\n",
       "\n",
       "    .dataframe tbody tr th {\n",
       "        vertical-align: top;\n",
       "    }\n",
       "\n",
       "    .dataframe thead th {\n",
       "        text-align: right;\n",
       "    }\n",
       "</style>\n",
       "<table border=\"1\" class=\"dataframe\">\n",
       "  <thead>\n",
       "    <tr style=\"text-align: right;\">\n",
       "      <th></th>\n",
       "      <th>Day</th>\n",
       "      <th>N(Kg/Acre)</th>\n",
       "      <th>P(Kg/Acre)</th>\n",
       "      <th>K(Kg/Acre)</th>\n",
       "      <th>Moisture(%)</th>\n",
       "      <th>Temperature(°C)</th>\n",
       "      <th>Humidity(K)</th>\n",
       "      <th>LightIntensity</th>\n",
       "    </tr>\n",
       "  </thead>\n",
       "  <tbody>\n",
       "    <tr>\n",
       "      <th>49995</th>\n",
       "      <td>49996</td>\n",
       "      <td>38</td>\n",
       "      <td>27</td>\n",
       "      <td>93</td>\n",
       "      <td>70</td>\n",
       "      <td>27</td>\n",
       "      <td>68</td>\n",
       "      <td>12</td>\n",
       "    </tr>\n",
       "    <tr>\n",
       "      <th>49996</th>\n",
       "      <td>49997</td>\n",
       "      <td>37</td>\n",
       "      <td>25</td>\n",
       "      <td>78</td>\n",
       "      <td>40</td>\n",
       "      <td>27</td>\n",
       "      <td>71</td>\n",
       "      <td>10</td>\n",
       "    </tr>\n",
       "    <tr>\n",
       "      <th>49997</th>\n",
       "      <td>49998</td>\n",
       "      <td>36</td>\n",
       "      <td>32</td>\n",
       "      <td>78</td>\n",
       "      <td>57</td>\n",
       "      <td>28</td>\n",
       "      <td>79</td>\n",
       "      <td>11</td>\n",
       "    </tr>\n",
       "    <tr>\n",
       "      <th>49998</th>\n",
       "      <td>49999</td>\n",
       "      <td>32</td>\n",
       "      <td>20</td>\n",
       "      <td>52</td>\n",
       "      <td>62</td>\n",
       "      <td>28</td>\n",
       "      <td>71</td>\n",
       "      <td>14</td>\n",
       "    </tr>\n",
       "    <tr>\n",
       "      <th>49999</th>\n",
       "      <td>50000</td>\n",
       "      <td>31</td>\n",
       "      <td>27</td>\n",
       "      <td>123</td>\n",
       "      <td>62</td>\n",
       "      <td>27</td>\n",
       "      <td>69</td>\n",
       "      <td>12</td>\n",
       "    </tr>\n",
       "  </tbody>\n",
       "</table>\n",
       "</div>"
      ],
      "text/plain": [
       "         Day  N(Kg/Acre)  P(Kg/Acre)  K(Kg/Acre)  Moisture(%)  \\\n",
       "49995  49996          38          27          93           70   \n",
       "49996  49997          37          25          78           40   \n",
       "49997  49998          36          32          78           57   \n",
       "49998  49999          32          20          52           62   \n",
       "49999  50000          31          27         123           62   \n",
       "\n",
       "       Temperature(°C)  Humidity(K)  LightIntensity  \n",
       "49995               27           68              12  \n",
       "49996               27           71              10  \n",
       "49997               28           79              11  \n",
       "49998               28           71              14  \n",
       "49999               27           69              12  "
      ]
     },
     "execution_count": 6,
     "metadata": {},
     "output_type": "execute_result"
    }
   ],
   "source": [
    "print('From Bottom\\n')\n",
    "data.tail()"
   ]
  },
  {
   "cell_type": "code",
   "execution_count": 31,
   "metadata": {},
   "outputs": [
    {
     "data": {
      "text/html": [
       "<div>\n",
       "<style scoped>\n",
       "    .dataframe tbody tr th:only-of-type {\n",
       "        vertical-align: middle;\n",
       "    }\n",
       "\n",
       "    .dataframe tbody tr th {\n",
       "        vertical-align: top;\n",
       "    }\n",
       "\n",
       "    .dataframe thead th {\n",
       "        text-align: right;\n",
       "    }\n",
       "</style>\n",
       "<table border=\"1\" class=\"dataframe\">\n",
       "  <thead>\n",
       "    <tr style=\"text-align: right;\">\n",
       "      <th></th>\n",
       "      <th>Day</th>\n",
       "      <th>N(Kg/Acre)</th>\n",
       "      <th>P(Kg/Acre)</th>\n",
       "      <th>K(Kg/Acre)</th>\n",
       "      <th>Moisture(%)</th>\n",
       "      <th>Temperature(°C)</th>\n",
       "      <th>Humidity(K)</th>\n",
       "      <th>LightIntensity</th>\n",
       "    </tr>\n",
       "  </thead>\n",
       "  <tbody>\n",
       "    <tr>\n",
       "      <th>0</th>\n",
       "      <td>1</td>\n",
       "      <td>34</td>\n",
       "      <td>31</td>\n",
       "      <td>83</td>\n",
       "      <td>58</td>\n",
       "      <td>29</td>\n",
       "      <td>82</td>\n",
       "      <td>10</td>\n",
       "    </tr>\n",
       "    <tr>\n",
       "      <th>1</th>\n",
       "      <td>2</td>\n",
       "      <td>36</td>\n",
       "      <td>28</td>\n",
       "      <td>57</td>\n",
       "      <td>39</td>\n",
       "      <td>29</td>\n",
       "      <td>68</td>\n",
       "      <td>14</td>\n",
       "    </tr>\n",
       "    <tr>\n",
       "      <th>2</th>\n",
       "      <td>3</td>\n",
       "      <td>33</td>\n",
       "      <td>24</td>\n",
       "      <td>143</td>\n",
       "      <td>55</td>\n",
       "      <td>27</td>\n",
       "      <td>69</td>\n",
       "      <td>15</td>\n",
       "    </tr>\n",
       "    <tr>\n",
       "      <th>3</th>\n",
       "      <td>4</td>\n",
       "      <td>32</td>\n",
       "      <td>23</td>\n",
       "      <td>58</td>\n",
       "      <td>40</td>\n",
       "      <td>28</td>\n",
       "      <td>75</td>\n",
       "      <td>10</td>\n",
       "    </tr>\n",
       "    <tr>\n",
       "      <th>4</th>\n",
       "      <td>5</td>\n",
       "      <td>31</td>\n",
       "      <td>23</td>\n",
       "      <td>80</td>\n",
       "      <td>60</td>\n",
       "      <td>29</td>\n",
       "      <td>68</td>\n",
       "      <td>15</td>\n",
       "    </tr>\n",
       "    <tr>\n",
       "      <th>...</th>\n",
       "      <td>...</td>\n",
       "      <td>...</td>\n",
       "      <td>...</td>\n",
       "      <td>...</td>\n",
       "      <td>...</td>\n",
       "      <td>...</td>\n",
       "      <td>...</td>\n",
       "      <td>...</td>\n",
       "    </tr>\n",
       "    <tr>\n",
       "      <th>12494</th>\n",
       "      <td>12495</td>\n",
       "      <td>39</td>\n",
       "      <td>23</td>\n",
       "      <td>119</td>\n",
       "      <td>63</td>\n",
       "      <td>28</td>\n",
       "      <td>69</td>\n",
       "      <td>12</td>\n",
       "    </tr>\n",
       "    <tr>\n",
       "      <th>12495</th>\n",
       "      <td>12496</td>\n",
       "      <td>37</td>\n",
       "      <td>25</td>\n",
       "      <td>74</td>\n",
       "      <td>51</td>\n",
       "      <td>27</td>\n",
       "      <td>78</td>\n",
       "      <td>12</td>\n",
       "    </tr>\n",
       "    <tr>\n",
       "      <th>12496</th>\n",
       "      <td>12497</td>\n",
       "      <td>38</td>\n",
       "      <td>22</td>\n",
       "      <td>53</td>\n",
       "      <td>78</td>\n",
       "      <td>29</td>\n",
       "      <td>79</td>\n",
       "      <td>13</td>\n",
       "    </tr>\n",
       "    <tr>\n",
       "      <th>12497</th>\n",
       "      <td>12498</td>\n",
       "      <td>36</td>\n",
       "      <td>21</td>\n",
       "      <td>78</td>\n",
       "      <td>74</td>\n",
       "      <td>27</td>\n",
       "      <td>76</td>\n",
       "      <td>12</td>\n",
       "    </tr>\n",
       "    <tr>\n",
       "      <th>12498</th>\n",
       "      <td>12499</td>\n",
       "      <td>36</td>\n",
       "      <td>26</td>\n",
       "      <td>147</td>\n",
       "      <td>61</td>\n",
       "      <td>29</td>\n",
       "      <td>79</td>\n",
       "      <td>12</td>\n",
       "    </tr>\n",
       "  </tbody>\n",
       "</table>\n",
       "<p>12499 rows × 8 columns</p>\n",
       "</div>"
      ],
      "text/plain": [
       "         Day  N(Kg/Acre)  P(Kg/Acre)  K(Kg/Acre)  Moisture(%)  \\\n",
       "0          1          34          31          83           58   \n",
       "1          2          36          28          57           39   \n",
       "2          3          33          24         143           55   \n",
       "3          4          32          23          58           40   \n",
       "4          5          31          23          80           60   \n",
       "...      ...         ...         ...         ...          ...   \n",
       "12494  12495          39          23         119           63   \n",
       "12495  12496          37          25          74           51   \n",
       "12496  12497          38          22          53           78   \n",
       "12497  12498          36          21          78           74   \n",
       "12498  12499          36          26         147           61   \n",
       "\n",
       "       Temperature(°C)  Humidity(K)  LightIntensity  \n",
       "0                   29           82              10  \n",
       "1                   29           68              14  \n",
       "2                   27           69              15  \n",
       "3                   28           75              10  \n",
       "4                   29           68              15  \n",
       "...                ...          ...             ...  \n",
       "12494               28           69              12  \n",
       "12495               27           78              12  \n",
       "12496               29           79              13  \n",
       "12497               27           76              12  \n",
       "12498               29           79              12  \n",
       "\n",
       "[12499 rows x 8 columns]"
      ]
     },
     "execution_count": 31,
     "metadata": {},
     "output_type": "execute_result"
    }
   ],
   "source": [
    "data_training = data[data['Day']<12500].copy()#dividing training set\n",
    "data_testing = data[data['Day']>=12500].copy()#dividing testing set\n",
    "data_training"
   ]
  },
  {
   "cell_type": "code",
   "execution_count": 32,
   "metadata": {},
   "outputs": [
    {
     "data": {
      "text/plain": [
       "array([[0.00000000e+00, 4.44444444e-01, 7.85714286e-01, ...,\n",
       "        1.00000000e+00, 8.94736842e-01, 1.42857143e-01],\n",
       "       [8.00128020e-05, 6.66666667e-01, 5.71428571e-01, ...,\n",
       "        1.00000000e+00, 1.57894737e-01, 7.14285714e-01],\n",
       "       [1.60025604e-04, 3.33333333e-01, 2.85714286e-01, ...,\n",
       "        0.00000000e+00, 2.10526316e-01, 8.57142857e-01],\n",
       "       ...,\n",
       "       [9.99839974e-01, 8.88888889e-01, 1.42857143e-01, ...,\n",
       "        1.00000000e+00, 7.36842105e-01, 5.71428571e-01],\n",
       "       [9.99919987e-01, 6.66666667e-01, 7.14285714e-02, ...,\n",
       "        0.00000000e+00, 5.78947368e-01, 4.28571429e-01],\n",
       "       [1.00000000e+00, 6.66666667e-01, 4.28571429e-01, ...,\n",
       "        1.00000000e+00, 7.36842105e-01, 4.28571429e-01]])"
      ]
     },
     "execution_count": 32,
     "metadata": {},
     "output_type": "execute_result"
    }
   ],
   "source": [
    "Scaler = MinMaxScaler()#scaling the values\n",
    "training_data = Scaler.fit_transform(data_training)\n",
    "training_data"
   ]
  },
  {
   "cell_type": "code",
   "execution_count": 33,
   "metadata": {},
   "outputs": [
    {
     "data": {
      "text/plain": [
       "12499"
      ]
     },
     "execution_count": 33,
     "metadata": {},
     "output_type": "execute_result"
    }
   ],
   "source": [
    "x_train = []\n",
    "y_train = []\n",
    "training_data.shape[0]"
   ]
  },
  {
   "cell_type": "code",
   "execution_count": 34,
   "metadata": {},
   "outputs": [],
   "source": [
    "for i in range(4,training_data.shape[0]):\n",
    "    x_train.append(training_data[i-4:i])\n",
    "    y_train.append(training_data[i,0])"
   ]
  },
  {
   "cell_type": "code",
   "execution_count": 35,
   "metadata": {},
   "outputs": [
    {
     "data": {
      "text/plain": [
       "(12495, 4, 8)"
      ]
     },
     "execution_count": 35,
     "metadata": {},
     "output_type": "execute_result"
    }
   ],
   "source": [
    "x_train,y_train = np.array(x_train),np.array(y_train)\n",
    "x_train.shape"
   ]
  },
  {
   "cell_type": "code",
   "execution_count": 3,
   "metadata": {},
   "outputs": [],
   "source": [
    "from tensorflow.keras import Sequential\n",
    "from tensorflow.keras.layers import Dense,LSTM, Dropout #importing layers"
   ]
  },
  {
   "cell_type": "code",
   "execution_count": 36,
   "metadata": {},
   "outputs": [
    {
     "name": "stdout",
     "output_type": "stream",
     "text": [
      "Model: \"sequential_3\"\n",
      "_________________________________________________________________\n",
      "Layer (type)                 Output Shape              Param #   \n",
      "=================================================================\n",
      "lstm_12 (LSTM)               (None, 4, 60)             16560     \n",
      "_________________________________________________________________\n",
      "dropout_12 (Dropout)         (None, 4, 60)             0         \n",
      "_________________________________________________________________\n",
      "lstm_13 (LSTM)               (None, 4, 60)             29040     \n",
      "_________________________________________________________________\n",
      "dropout_13 (Dropout)         (None, 4, 60)             0         \n",
      "_________________________________________________________________\n",
      "lstm_14 (LSTM)               (None, 4, 80)             45120     \n",
      "_________________________________________________________________\n",
      "dropout_14 (Dropout)         (None, 4, 80)             0         \n",
      "_________________________________________________________________\n",
      "lstm_15 (LSTM)               (None, 120)               96480     \n",
      "_________________________________________________________________\n",
      "dropout_15 (Dropout)         (None, 120)               0         \n",
      "_________________________________________________________________\n",
      "dense_3 (Dense)              (None, 1)                 121       \n",
      "=================================================================\n",
      "Total params: 187,321\n",
      "Trainable params: 187,321\n",
      "Non-trainable params: 0\n",
      "_________________________________________________________________\n"
     ]
    }
   ],
   "source": [
    "regressior = Sequential()\n",
    "\n",
    "regressior.add(LSTM(units=60,activation='relu',return_sequences = True, input_shape=(x_train.shape[1],8)))\n",
    "regressior.add(Dropout(0.05))\n",
    "\n",
    "regressior.add(LSTM(units=60,activation='relu',return_sequences = True))\n",
    "regressior.add(Dropout(0.05))\n",
    "\n",
    "regressior.add(LSTM(units=80,activation='relu',return_sequences = True))\n",
    "regressior.add(Dropout(0.05))\n",
    "\n",
    "regressior.add(LSTM(units=120,activation='relu'))\n",
    "regressior.add(Dropout(0.05))\n",
    "\n",
    "regressior.add(Dense(units=1))\n",
    "\n",
    "regressior.summary()"
   ]
  },
  {
   "cell_type": "code",
   "execution_count": 37,
   "metadata": {},
   "outputs": [
    {
     "name": "stdout",
     "output_type": "stream",
     "text": [
      "Train on 12495 samples\n",
      "Epoch 1/50\n",
      "12495/12495 [==============================] - 23s 2ms/sample - loss: 0.0194\n",
      "Epoch 2/50\n",
      "12495/12495 [==============================] - 12s 971us/sample - loss: 9.2805e-04\n",
      "Epoch 3/50\n",
      "12495/12495 [==============================] - 14s 1ms/sample - loss: 7.7627e-04\n",
      "Epoch 4/50\n",
      "12495/12495 [==============================] - 13s 1ms/sample - loss: 6.2955e-04\n",
      "Epoch 5/50\n",
      "12495/12495 [==============================] - 13s 1ms/sample - loss: 5.8873e-04\n",
      "Epoch 6/50\n",
      "12495/12495 [==============================] - 13s 1ms/sample - loss: 5.3258e-04\n",
      "Epoch 7/50\n",
      "12495/12495 [==============================] - 13s 1ms/sample - loss: 5.5963e-04\n",
      "Epoch 8/50\n",
      "12495/12495 [==============================] - 13s 1ms/sample - loss: 5.4624e-04\n",
      "Epoch 9/50\n",
      "12495/12495 [==============================] - 13s 1ms/sample - loss: 4.9532e-04\n",
      "Epoch 10/50\n",
      "12495/12495 [==============================] - 13s 1ms/sample - loss: 4.3674e-04\n",
      "Epoch 11/50\n",
      "12495/12495 [==============================] - 12s 997us/sample - loss: 4.2184e-04\n",
      "Epoch 12/50\n",
      "12495/12495 [==============================] - 12s 986us/sample - loss: 4.0657e-04\n",
      "Epoch 13/50\n",
      "12495/12495 [==============================] - 15s 1ms/sample - loss: 3.9827e-04\n",
      "Epoch 14/50\n",
      "12495/12495 [==============================] - 14s 1ms/sample - loss: 3.9337e-04\n",
      "Epoch 15/50\n",
      "12495/12495 [==============================] - 14s 1ms/sample - loss: 3.7277e-04\n",
      "Epoch 16/50\n",
      "12495/12495 [==============================] - 13s 1ms/sample - loss: 3.7780e-04\n",
      "Epoch 17/50\n",
      "12495/12495 [==============================] - 15s 1ms/sample - loss: 3.3880e-04\n",
      "Epoch 18/50\n",
      "12495/12495 [==============================] - 12s 988us/sample - loss: 3.2466e-04\n",
      "Epoch 19/50\n",
      "12495/12495 [==============================] - 12s 981us/sample - loss: 2.8184e-04\n",
      "Epoch 20/50\n",
      "12495/12495 [==============================] - 12s 979us/sample - loss: 2.7959e-04\n",
      "Epoch 21/50\n",
      "12495/12495 [==============================] - 12s 985us/sample - loss: 2.8637e-04\n",
      "Epoch 22/50\n",
      "12495/12495 [==============================] - 13s 1ms/sample - loss: 2.7912e-04\n",
      "Epoch 23/50\n",
      "12495/12495 [==============================] - 12s 995us/sample - loss: 2.7981e-04\n",
      "Epoch 24/50\n",
      "12495/12495 [==============================] - 12s 986us/sample - loss: 2.5948e-04\n",
      "Epoch 25/50\n",
      "12495/12495 [==============================] - 12s 971us/sample - loss: 2.5951e-04\n",
      "Epoch 26/50\n",
      "12495/12495 [==============================] - 12s 976us/sample - loss: 2.6745e-04\n",
      "Epoch 27/50\n",
      "12495/12495 [==============================] - 14s 1ms/sample - loss: 2.2583e-04\n",
      "Epoch 28/50\n",
      "12495/12495 [==============================] - 13s 1ms/sample - loss: 2.3892e-04\n",
      "Epoch 29/50\n",
      "12495/12495 [==============================] - 13s 1ms/sample - loss: 2.3709e-04\n",
      "Epoch 30/50\n",
      "12495/12495 [==============================] - 12s 994us/sample - loss: 2.4288e-04\n",
      "Epoch 31/50\n",
      "12495/12495 [==============================] - 12s 993us/sample - loss: 2.2621e-04\n",
      "Epoch 32/50\n",
      "12495/12495 [==============================] - 12s 994us/sample - loss: 2.0524e-04\n",
      "Epoch 33/50\n",
      "12495/12495 [==============================] - 12s 984us/sample - loss: 2.0370e-04\n",
      "Epoch 34/50\n",
      "12495/12495 [==============================] - 12s 992us/sample - loss: 2.0718e-04\n",
      "Epoch 35/50\n",
      "12495/12495 [==============================] - 13s 1ms/sample - loss: 2.0552e-04\n",
      "Epoch 36/50\n",
      "12495/12495 [==============================] - 13s 1ms/sample - loss: 1.9275e-04\n",
      "Epoch 37/50\n",
      "12495/12495 [==============================] - 13s 1ms/sample - loss: 1.9920e-04\n",
      "Epoch 38/50\n",
      "12495/12495 [==============================] - 13s 1ms/sample - loss: 1.9999e-04\n",
      "Epoch 39/50\n",
      "12495/12495 [==============================] - 12s 996us/sample - loss: 1.8583e-04\n",
      "Epoch 40/50\n",
      "12495/12495 [==============================] - 13s 1ms/sample - loss: 1.9023e-04\n",
      "Epoch 41/50\n",
      "12495/12495 [==============================] - 13s 1ms/sample - loss: 1.9339e-04\n",
      "Epoch 42/50\n",
      "12495/12495 [==============================] - 13s 1ms/sample - loss: 2.0004e-04\n",
      "Epoch 43/50\n",
      "12495/12495 [==============================] - 12s 1ms/sample - loss: 1.9441e-04\n",
      "Epoch 44/50\n",
      "12495/12495 [==============================] - 12s 992us/sample - loss: 1.7563e-04\n",
      "Epoch 45/50\n",
      "12495/12495 [==============================] - 13s 1ms/sample - loss: 1.8719e-04\n",
      "Epoch 46/50\n",
      "12495/12495 [==============================] - 13s 1ms/sample - loss: 1.8865e-04\n",
      "Epoch 47/50\n",
      "12495/12495 [==============================] - 13s 1ms/sample - loss: 1.8600e-04\n",
      "Epoch 48/50\n",
      "12495/12495 [==============================] - 12s 1000us/sample - loss: 1.6805e-04\n",
      "Epoch 49/50\n",
      "12495/12495 [==============================] - 13s 1ms/sample - loss: 1.8267e-04\n",
      "Epoch 50/50\n",
      "12495/12495 [==============================] - 13s 1ms/sample - loss: 1.7769e-04\n"
     ]
    },
    {
     "data": {
      "text/plain": [
       "<tensorflow.python.keras.callbacks.History at 0x7f2de00dcbe0>"
      ]
     },
     "execution_count": 37,
     "metadata": {},
     "output_type": "execute_result"
    }
   ],
   "source": [
    "regressior.compile(optimizer='adam',loss='mean_squared_error')\n",
    "regressior.fit(x_train,y_train,epochs=50,batch_size=32)"
   ]
  },
  {
   "cell_type": "code",
   "execution_count": 39,
   "metadata": {},
   "outputs": [
    {
     "data": {
      "text/html": [
       "<div>\n",
       "<style scoped>\n",
       "    .dataframe tbody tr th:only-of-type {\n",
       "        vertical-align: middle;\n",
       "    }\n",
       "\n",
       "    .dataframe tbody tr th {\n",
       "        vertical-align: top;\n",
       "    }\n",
       "\n",
       "    .dataframe thead th {\n",
       "        text-align: right;\n",
       "    }\n",
       "</style>\n",
       "<table border=\"1\" class=\"dataframe\">\n",
       "  <thead>\n",
       "    <tr style=\"text-align: right;\">\n",
       "      <th></th>\n",
       "      <th>Day</th>\n",
       "      <th>N(Kg/Acre)</th>\n",
       "      <th>P(Kg/Acre)</th>\n",
       "      <th>K(Kg/Acre)</th>\n",
       "      <th>Moisture(%)</th>\n",
       "      <th>Temperature(°C)</th>\n",
       "      <th>Humidity(K)</th>\n",
       "      <th>LightIntensity</th>\n",
       "    </tr>\n",
       "  </thead>\n",
       "  <tbody>\n",
       "    <tr>\n",
       "      <th>0</th>\n",
       "      <td>12470</td>\n",
       "      <td>38</td>\n",
       "      <td>21</td>\n",
       "      <td>94</td>\n",
       "      <td>42</td>\n",
       "      <td>27</td>\n",
       "      <td>67</td>\n",
       "      <td>14</td>\n",
       "    </tr>\n",
       "    <tr>\n",
       "      <th>1</th>\n",
       "      <td>12471</td>\n",
       "      <td>31</td>\n",
       "      <td>25</td>\n",
       "      <td>75</td>\n",
       "      <td>76</td>\n",
       "      <td>28</td>\n",
       "      <td>84</td>\n",
       "      <td>14</td>\n",
       "    </tr>\n",
       "    <tr>\n",
       "      <th>2</th>\n",
       "      <td>12472</td>\n",
       "      <td>39</td>\n",
       "      <td>21</td>\n",
       "      <td>109</td>\n",
       "      <td>66</td>\n",
       "      <td>28</td>\n",
       "      <td>77</td>\n",
       "      <td>15</td>\n",
       "    </tr>\n",
       "    <tr>\n",
       "      <th>3</th>\n",
       "      <td>12473</td>\n",
       "      <td>39</td>\n",
       "      <td>20</td>\n",
       "      <td>100</td>\n",
       "      <td>47</td>\n",
       "      <td>28</td>\n",
       "      <td>69</td>\n",
       "      <td>10</td>\n",
       "    </tr>\n",
       "    <tr>\n",
       "      <th>4</th>\n",
       "      <td>12474</td>\n",
       "      <td>33</td>\n",
       "      <td>34</td>\n",
       "      <td>115</td>\n",
       "      <td>79</td>\n",
       "      <td>29</td>\n",
       "      <td>74</td>\n",
       "      <td>16</td>\n",
       "    </tr>\n",
       "  </tbody>\n",
       "</table>\n",
       "</div>"
      ],
      "text/plain": [
       "     Day  N(Kg/Acre)  P(Kg/Acre)  K(Kg/Acre)  Moisture(%)  Temperature(°C)  \\\n",
       "0  12470          38          21          94           42               27   \n",
       "1  12471          31          25          75           76               28   \n",
       "2  12472          39          21         109           66               28   \n",
       "3  12473          39          20         100           47               28   \n",
       "4  12474          33          34         115           79               29   \n",
       "\n",
       "   Humidity(K)  LightIntensity  \n",
       "0           67              14  \n",
       "1           84              14  \n",
       "2           77              15  \n",
       "3           69              10  \n",
       "4           74              16  "
      ]
     },
     "execution_count": 39,
     "metadata": {},
     "output_type": "execute_result"
    }
   ],
   "source": [
    "days_30 = data_training.tail(30)\n",
    "df = days_30.append(data_testing,ignore_index=True)\n",
    "df.head()\n",
    "\n"
   ]
  },
  {
   "cell_type": "code",
   "execution_count": 40,
   "metadata": {},
   "outputs": [
    {
     "data": {
      "text/plain": [
       "array([[0.99767963, 0.88888889, 0.07142857, ..., 0.        , 0.10526316,\n",
       "        0.71428571],\n",
       "       [0.99775964, 0.11111111, 0.35714286, ..., 0.5       , 1.        ,\n",
       "        0.71428571],\n",
       "       [0.99783965, 1.        , 0.07142857, ..., 0.5       , 0.63157895,\n",
       "        0.85714286],\n",
       "       ...,\n",
       "       [4.00040006, 0.66666667, 0.85714286, ..., 0.5       , 0.73684211,\n",
       "        0.28571429],\n",
       "       [4.00048008, 0.22222222, 0.        , ..., 0.5       , 0.31578947,\n",
       "        0.71428571],\n",
       "       [4.00056009, 0.11111111, 0.5       , ..., 0.        , 0.21052632,\n",
       "        0.42857143]])"
      ]
     },
     "execution_count": 40,
     "metadata": {},
     "output_type": "execute_result"
    }
   ],
   "source": [
    "inputs = Scaler.transform(df)\n",
    "inputs"
   ]
  },
  {
   "cell_type": "code",
   "execution_count": 61,
   "metadata": {},
   "outputs": [
    {
     "data": {
      "text/plain": [
       "37531"
      ]
     },
     "execution_count": 61,
     "metadata": {},
     "output_type": "execute_result"
    }
   ],
   "source": [
    "x_test = []\n",
    "y_test = []\n",
    "\n",
    "inputs.shape[0]"
   ]
  },
  {
   "cell_type": "code",
   "execution_count": 62,
   "metadata": {},
   "outputs": [],
   "source": [
    "for i in range(4,inputs.shape[0]):\n",
    "    x_test.append(inputs[i-4:i])\n",
    "    y_test.append(inputs[i,0])"
   ]
  },
  {
   "cell_type": "code",
   "execution_count": 63,
   "metadata": {},
   "outputs": [
    {
     "data": {
      "text/plain": [
       "((37527, 4, 8), (37527,))"
      ]
     },
     "execution_count": 63,
     "metadata": {},
     "output_type": "execute_result"
    }
   ],
   "source": [
    "x_test,y_test = np.array(x_test),np.array(y_test)\n",
    "x_test.shape, y_test.shape"
   ]
  },
  {
   "cell_type": "code",
   "execution_count": 64,
   "metadata": {},
   "outputs": [],
   "source": [
    "y_pred = regressior.predict(x_test)"
   ]
  },
  {
   "cell_type": "code",
   "execution_count": 65,
   "metadata": {},
   "outputs": [
    {
     "data": {
      "text/plain": [
       "array([[0.9956554 ],\n",
       "       [0.99340975],\n",
       "       [0.9932256 ],\n",
       "       ...,\n",
       "       [0.3329294 ],\n",
       "       [0.32805902],\n",
       "       [0.3348386 ]], dtype=float32)"
      ]
     },
     "execution_count": 65,
     "metadata": {},
     "output_type": "execute_result"
    }
   ],
   "source": [
    "y_pred"
   ]
  },
  {
   "cell_type": "code",
   "execution_count": 66,
   "metadata": {},
   "outputs": [
    {
     "data": {
      "text/plain": [
       "array([8.00128020e-05, 1.11111111e-01, 7.14285714e-02, 1.01010101e-02,\n",
       "       1.81818182e-02, 5.00000000e-01, 5.26315789e-02, 1.42857143e-01])"
      ]
     },
     "execution_count": 66,
     "metadata": {},
     "output_type": "execute_result"
    }
   ],
   "source": [
    "Scaler.scale_"
   ]
  },
  {
   "cell_type": "code",
   "execution_count": 67,
   "metadata": {},
   "outputs": [
    {
     "data": {
      "text/plain": [
       "15697.000005212973"
      ]
     },
     "execution_count": 67,
     "metadata": {},
     "output_type": "execute_result"
    }
   ],
   "source": [
    "scale = 1/6.37064407e-05\n",
    "scale"
   ]
  },
  {
   "cell_type": "code",
   "execution_count": 68,
   "metadata": {},
   "outputs": [],
   "source": [
    "y_pred = y_pred*scale\n",
    "y_test = y_test*scale"
   ]
  },
  {
   "cell_type": "code",
   "execution_count": 69,
   "metadata": {},
   "outputs": [
    {
     "data": {
      "text/plain": [
       "array([[15628.803 ],\n",
       "       [15593.553 ],\n",
       "       [15590.662 ],\n",
       "       ...,\n",
       "       [ 5225.9927],\n",
       "       [ 5149.5425],\n",
       "       [ 5255.9614]], dtype=float32)"
      ]
     },
     "execution_count": 69,
     "metadata": {},
     "output_type": "execute_result"
    }
   ],
   "source": [
    "y_pred"
   ]
  },
  {
   "cell_type": "code",
   "execution_count": 70,
   "metadata": {},
   "outputs": [
    {
     "data": {
      "image/png": "[encoded data removed]",
      "text/plain": [
       "<Figure size 1008x360 with 1 Axes>"
      ]
     },
     "metadata": {
      "needs_background": "light"
     },
     "output_type": "display_data"
    }
   ],
   "source": [
    "plt.figure(figsize=(14,5))\n",
    "plt.plot(y_test,color='yellow',label='Real Infosys stock price')\n",
    "plt.plot(y_pred,color='blue',label='Predicted Infosys stock price')\n",
    "plt.title('INFOSYS Stock Price Prediction')\n",
    "plt.xlabel('Time')\n",
    "plt.ylabel('INFOSYS Stock Price')\n",
    "plt.legend()\n",
    "plt.show()"
   ]
  },
  {
   "cell_type": "code",
   "execution_count": null,
   "metadata": {},
   "outputs": [],
   "source": []
  }
 ],
 "metadata": {
  "kernelspec": {
   "display_name": "Python 3",
   "language": "python",
   "name": "python3"
  },
  "language_info": {
   "codemirror_mode": {
    "name": "ipython",
    "version": 3
   },
   "file_extension": ".py",
   "mimetype": "text/x-python",
   "name": "python",
   "nbconvert_exporter": "python",
   "pygments_lexer": "ipython3",
   "version": "3.6.9"
  }
 },
 "nbformat": 4,
 "nbformat_minor": 4
}
